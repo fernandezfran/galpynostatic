{
 "cells": [
  {
   "cell_type": "markdown",
   "id": "50059067-66cf-4770-a28a-cf9c49db2ecf",
   "metadata": {},
   "source": [
    "# galpynostatic tutorial"
   ]
  },
  {
   "cell_type": "markdown",
   "id": "6a6fdca8-b2de-438c-96e4-e5705189d3e9",
   "metadata": {},
   "source": [
    "## Quickstart\n",
    "\n",
    "A simple screenshot of how to use **galpynostatic** is shown in the following script, where you have a first part of preprocessing of the experimental data and a second part of fitting:\n",
    "```python\n",
    "import galpynostatic\n",
    "\n",
    "# experimental data definition (with numpy and pandas)\n",
    "C_rates, dataframes, eq_pot, xmax, d = ...\n",
    "\n",
    "# obtain discharge capacities\n",
    "xmaxs = galpynostatic.preprocessing.get_discharge_capacities(dataframes, eq_pot)\n",
    "\n",
    "# xmaxs normalization by a maximum value\n",
    "xmaxs = xmaxs / xmax\n",
    "\n",
    "# fit the model\n",
    "dataset = galpynostatic.datasets.load_spherical()\n",
    "greg = galpynostatic.model.GalvanostaticRegressor(dataset, d, 3)\n",
    "greg.fit(C_rates, xmaxs)\n",
    "\n",
    "# get the diffusion coefficient and the kinetic rate constant\n",
    "dcoeff = greg.dcoeff_\n",
    "k0 = greg.k0_\n",
    "\n",
    "# and an estimation of the characteristic diffusion length to charge the 80%\n",
    "# of the electrode in 5 minutes\n",
    "new_d = greg.t_minutes_lenght()\n",
    "```\n",
    "\n",
    "The `greg` object also allows to obtain the values predicted by the model, plot these predictions next to the experimental data and plot the points on the surface on which they were fitted."
   ]
  },
  {
   "cell_type": "markdown",
   "id": "54e8b0e4-918b-462a-93f0-8f4f93ca40ac",
   "metadata": {},
   "source": [
    "## Lithium battery systems"
   ]
  },
  {
   "cell_type": "markdown",
   "id": "8bf6b5e5-e3d9-4946-964b-ab9aa2147010",
   "metadata": {},
   "source": [
    "In the following section we will work with different systems relevant to the use and research of lithium batteries."
   ]
  },
  {
   "cell_type": "markdown",
   "id": "3d7dab28-807e-43ed-9dff-3b8246b25d74",
   "metadata": {},
   "source": [
    "We start by defining the path where the examples data are located"
   ]
  },
  {
   "cell_type": "code",
   "execution_count": 1,
   "id": "eb82dc16-faf3-4d39-95cc-1ac3bd9726db",
   "metadata": {},
   "outputs": [],
   "source": [
    "path = \"../../examples/data/\""
   ]
  },
  {
   "cell_type": "markdown",
   "id": "981d43bd-7c60-4dec-9d71-4032279de8b6",
   "metadata": {},
   "source": [
    "and import all the necessary packages"
   ]
  },
  {
   "cell_type": "code",
   "execution_count": 2,
   "id": "afe2c6cf-82fb-4d33-8365-c6a506c6ca6f",
   "metadata": {},
   "outputs": [],
   "source": [
    "import matplotlib.pyplot as plt\n",
    "import numpy as np\n",
    "import pandas as pd"
   ]
  },
  {
   "cell_type": "markdown",
   "id": "7f388699-dcac-4b14-82b3-48eb8d63b514",
   "metadata": {},
   "source": [
    "along with the package developed here"
   ]
  },
  {
   "cell_type": "code",
   "execution_count": 3,
   "id": "af7335ed-4557-45ae-9fe8-0c898e2cac3c",
   "metadata": {},
   "outputs": [],
   "source": [
    "import galpynostatic"
   ]
  },
  {
   "cell_type": "markdown",
   "id": "bf6f83c6-97a6-4b28-9276-8a55888b4e82",
   "metadata": {},
   "source": [
    "### Natural graphite"
   ]
  },
  {
   "cell_type": "markdown",
   "id": "cc01f493-1bf1-434f-839e-0d0ce71a4456",
   "metadata": {},
   "source": [
    "#### Data visualization"
   ]
  },
  {
   "cell_type": "markdown",
   "id": "1e4dcc5b-7f91-40da-a8d9-18418fdcc034",
   "metadata": {},
   "source": [
    "#### Preprocessing"
   ]
  },
  {
   "cell_type": "markdown",
   "id": "12eefe2e-c825-40c8-b6b0-399eee6c8998",
   "metadata": {},
   "source": [
    "#### Fitting"
   ]
  },
  {
   "cell_type": "markdown",
   "id": "26ed63b5-f5d7-4105-91b2-eeee1e681c21",
   "metadata": {},
   "source": [
    "#### Results"
   ]
  },
  {
   "cell_type": "markdown",
   "id": "768ac06f-8bcb-49b1-9961-d5ef2db0ed53",
   "metadata": {},
   "source": [
    "### LTO"
   ]
  },
  {
   "cell_type": "markdown",
   "id": "504d206d-5988-46fd-9d68-d6a9c99c1f40",
   "metadata": {},
   "source": [
    "### LFP"
   ]
  },
  {
   "cell_type": "markdown",
   "id": "790a9d2b-e723-42df-94dd-b5db67c8ec88",
   "metadata": {},
   "source": [
    "### LCO"
   ]
  },
  {
   "cell_type": "markdown",
   "id": "7e4dd4ee-14d2-466b-b295-96fe0d920e68",
   "metadata": {},
   "source": [
    "### LMO"
   ]
  },
  {
   "cell_type": "markdown",
   "id": "8ce61e6a-3fd6-42f0-ac15-c54a17fa04e4",
   "metadata": {},
   "source": [
    "### LMNO"
   ]
  }
 ],
 "metadata": {
  "kernelspec": {
   "display_name": "Python 3",
   "language": "python",
   "name": "python3"
  },
  "language_info": {
   "codemirror_mode": {
    "name": "ipython",
    "version": 3
   },
   "file_extension": ".py",
   "mimetype": "text/x-python",
   "name": "python",
   "nbconvert_exporter": "python",
   "pygments_lexer": "ipython3",
   "version": "3.8.10"
  }
 },
 "nbformat": 4,
 "nbformat_minor": 5
}
