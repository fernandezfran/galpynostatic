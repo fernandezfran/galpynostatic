{
 "cells": [
  {
   "cell_type": "markdown",
   "id": "50059067-66cf-4770-a28a-cf9c49db2ecf",
   "metadata": {},
   "source": [
    "# galpynostatic tutorial"
   ]
  },
  {
   "cell_type": "markdown",
   "id": "6a6fdca8-b2de-438c-96e4-e5705189d3e9",
   "metadata": {},
   "source": [
    "TODO"
   ]
  }
 ],
 "metadata": {
  "kernelspec": {
   "display_name": "Python 3 (ipykernel)",
   "language": "python",
   "name": "python3"
  },
  "language_info": {
   "codemirror_mode": {
    "name": "ipython",
    "version": 3
   },
   "file_extension": ".py",
   "mimetype": "text/x-python",
   "name": "python",
   "nbconvert_exporter": "python",
   "pygments_lexer": "ipython3",
   "version": "3.9.2"
  }
 },
 "nbformat": 4,
 "nbformat_minor": 5
}
