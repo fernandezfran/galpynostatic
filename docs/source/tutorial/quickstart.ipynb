{
 "cells": [
  {
   "cell_type": "markdown",
   "id": "50059067-66cf-4770-a28a-cf9c49db2ecf",
   "metadata": {},
   "source": [
    "# Quickstart"
   ]
  },
  {
   "cell_type": "markdown",
   "id": "6a6fdca8-b2de-438c-96e4-e5705189d3e9",
   "metadata": {},
   "source": [
    "A simple screenshot of how to use **galpynostatic** is shown in the following script, where you have a first part of preprocessing of the experimental data and a second part of fitting:\n",
    "```python\n",
    "import galpynostatic\n",
    "\n",
    "# experimental data definition (with numpy and pandas)\n",
    "C_rates, dataframes, eq_pot, xmax, d = ...\n",
    "\n",
    "# obtain discharge capacities\n",
    "xmaxs = galpynostatic.preprocessing.get_discharge_capacities(dataframes, eq_pot)\n",
    "\n",
    "# xmaxs normalization by a maximum value\n",
    "xmaxs = xmaxs / xmax\n",
    "\n",
    "# fit the model\n",
    "dataset = galpynostatic.datasets.load_spherical()\n",
    "greg = galpynostatic.model.GalvanostaticRegressor(dataset, d, 3)\n",
    "greg.fit(C_rates, xmaxs)\n",
    "\n",
    "# get the diffusion coefficient and the kinetic rate constant\n",
    "dcoeff = greg.dcoeff_\n",
    "k0 = greg.k0_\n",
    "\n",
    "# and an estimation of the characteristic diffusion length to charge the 80%\n",
    "# of the electrode in 5 minutes\n",
    "new_d = greg.t_minutes_lenght()\n",
    "```\n",
    "\n",
    "The `greg` object also allows to obtain the values predicted by the model, plot these predictions next to the experimental data and plot the points on the surface on which they were fitted."
   ]
  }
 ],
 "metadata": {
  "kernelspec": {
   "display_name": "Python 3",
   "language": "python",
   "name": "python3"
  },
  "language_info": {
   "codemirror_mode": {
    "name": "ipython",
    "version": 3
   },
   "file_extension": ".py",
   "mimetype": "text/x-python",
   "name": "python",
   "nbconvert_exporter": "python",
   "pygments_lexer": "ipython3",
   "version": "3.8.10"
  }
 },
 "nbformat": 4,
 "nbformat_minor": 5
}
